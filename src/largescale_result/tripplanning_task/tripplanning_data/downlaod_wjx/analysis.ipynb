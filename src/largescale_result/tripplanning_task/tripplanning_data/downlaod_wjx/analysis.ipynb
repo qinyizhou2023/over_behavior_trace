{
 "cells": [
  {
   "cell_type": "code",
   "execution_count": 1,
   "metadata": {},
   "outputs": [],
   "source": [
    "import pandas as pd\n",
    "import numpy as np \n",
    "from matplotlib import pyplot as plt\n",
    "import seaborn as sns\n",
    "sns.set()"
   ]
  },
  {
   "cell_type": "code",
   "execution_count": 2,
   "metadata": {},
   "outputs": [],
   "source": [
    "df = pd.read_csv('trip_allinone.csv')"
   ]
  },
  {
   "cell_type": "code",
   "execution_count": 3,
   "metadata": {},
   "outputs": [],
   "source": [
    "import statsmodels.api as sm\n",
    "from sklearn.preprocessing import StandardScaler, MinMaxScaler\n",
    "def fit_with_sm(X, y):\n",
    "    X = sm.add_constant(X)\n",
    "    model = sm.OLS(y, X).fit()\n",
    "    return model\n",
    "\n",
    "def fit_with_sklearn(X, y):\n",
    "    from sklearn.linear_model import LinearRegression\n",
    "    model = LinearRegression().fit(X, y)\n",
    "    return model\n",
    "\n",
    "def fit_with_catboost(X, y):\n",
    "    from catboost import CatBoostRegressor\n",
    "    model = CatBoostRegressor(depth=3, num_trees=500, verbose=False).fit(X, y)\n",
    "    return model\n",
    "def fit_pipeline(df, scaler=None):\n",
    "    if scaler is not None:\n",
    "        df = pd.DataFrame(scaler.fit_transform(df), columns=df.columns)\n",
    "    model = fit_with_sm(df.drop((['Score']), axis=1), df['Score'])\n",
    "    print(model.pvalues[model.pvalues < 0.05])\n",
    "    return model"
   ]
  },
  {
   "cell_type": "code",
   "execution_count": 4,
   "metadata": {},
   "outputs": [
    {
     "data": {
      "text/plain": [
       "Index(['totaltime', 'click_count', 'total_mouse_movement', 'mousewheel_count',\n",
       "       'total_mousewheel_distance', 'average_mousewheel_distance',\n",
       "       'copy_count', 'average_copy_length', 'paste_count',\n",
       "       'average_paste_length', 'delete_count', 'keypress_count',\n",
       "       'highlight_count', 'average_highlight_length', 'idle_count',\n",
       "       'average_idle_duration', 'total_idle_duration', 'Score'],\n",
       "      dtype='object')"
      ]
     },
     "execution_count": 4,
     "metadata": {},
     "output_type": "execute_result"
    }
   ],
   "source": [
    "df.index = df['ID']\n",
    "df.drop('ID', axis=1, inplace=True)\n",
    "df.columns"
   ]
  },
  {
   "cell_type": "code",
   "execution_count": 5,
   "metadata": {},
   "outputs": [],
   "source": [
    "for col in df.columns:\n",
    "    # if all = same value\n",
    "    if len(df[col].unique()) == 1:\n",
    "        df.drop(col, axis=1, inplace=True)\n",
    "        print(f'Dropped {col}')"
   ]
  },
  {
   "cell_type": "code",
   "execution_count": 6,
   "metadata": {},
   "outputs": [],
   "source": [
    "df.fillna(0, inplace=True)"
   ]
  },
  {
   "cell_type": "code",
   "execution_count": 7,
   "metadata": {},
   "outputs": [
    {
     "name": "stdout",
     "output_type": "stream",
     "text": [
      "28 18\n"
     ]
    }
   ],
   "source": [
    "print(len(df), len(df.columns))"
   ]
  },
  {
   "cell_type": "code",
   "execution_count": 8,
   "metadata": {},
   "outputs": [
    {
     "name": "stdout",
     "output_type": "stream",
     "text": [
      "mousewheel_count        0.040180\n",
      "average_paste_length    0.024754\n",
      "dtype: float64\n"
     ]
    }
   ],
   "source": [
    "model = fit_pipeline(df, StandardScaler())"
   ]
  },
  {
   "cell_type": "code",
   "execution_count": 9,
   "metadata": {},
   "outputs": [
    {
     "data": {
      "text/html": [
       "<table class=\"simpletable\">\n",
       "<caption>OLS Regression Results</caption>\n",
       "<tr>\n",
       "  <th>Dep. Variable:</th>          <td>Score</td>      <th>  R-squared:         </th> <td>   0.738</td>\n",
       "</tr>\n",
       "<tr>\n",
       "  <th>Model:</th>                   <td>OLS</td>       <th>  Adj. R-squared:    </th> <td>   0.291</td>\n",
       "</tr>\n",
       "<tr>\n",
       "  <th>Method:</th>             <td>Least Squares</td>  <th>  F-statistic:       </th> <td>   1.653</td>\n",
       "</tr>\n",
       "<tr>\n",
       "  <th>Date:</th>             <td>Sat, 19 Oct 2024</td> <th>  Prob (F-statistic):</th>  <td> 0.211</td> \n",
       "</tr>\n",
       "<tr>\n",
       "  <th>Time:</th>                 <td>17:12:42</td>     <th>  Log-Likelihood:    </th> <td> -21.005</td>\n",
       "</tr>\n",
       "<tr>\n",
       "  <th>No. Observations:</th>      <td>    28</td>      <th>  AIC:               </th> <td>   78.01</td>\n",
       "</tr>\n",
       "<tr>\n",
       "  <th>Df Residuals:</th>          <td>    10</td>      <th>  BIC:               </th> <td>   102.0</td>\n",
       "</tr>\n",
       "<tr>\n",
       "  <th>Df Model:</th>              <td>    17</td>      <th>                     </th>     <td> </td>   \n",
       "</tr>\n",
       "<tr>\n",
       "  <th>Covariance Type:</th>      <td>nonrobust</td>    <th>                     </th>     <td> </td>   \n",
       "</tr>\n",
       "</table>\n",
       "<table class=\"simpletable\">\n",
       "<tr>\n",
       "               <td></td>                  <th>coef</th>     <th>std err</th>      <th>t</th>      <th>P>|t|</th>  <th>[0.025</th>    <th>0.975]</th>  \n",
       "</tr>\n",
       "<tr>\n",
       "  <th>const</th>                       <td> 3.053e-16</td> <td>    0.162</td> <td> 1.88e-15</td> <td> 1.000</td> <td>   -0.361</td> <td>    0.361</td>\n",
       "</tr>\n",
       "<tr>\n",
       "  <th>totaltime</th>                   <td>   -0.7010</td> <td>    0.414</td> <td>   -1.695</td> <td> 0.121</td> <td>   -1.622</td> <td>    0.220</td>\n",
       "</tr>\n",
       "<tr>\n",
       "  <th>click_count</th>                 <td>   -0.5340</td> <td>    0.391</td> <td>   -1.365</td> <td> 0.202</td> <td>   -1.406</td> <td>    0.338</td>\n",
       "</tr>\n",
       "<tr>\n",
       "  <th>total_mouse_movement</th>        <td>    0.2968</td> <td>    0.697</td> <td>    0.426</td> <td> 0.679</td> <td>   -1.257</td> <td>    1.851</td>\n",
       "</tr>\n",
       "<tr>\n",
       "  <th>mousewheel_count</th>            <td>   -1.4621</td> <td>    0.620</td> <td>   -2.357</td> <td> 0.040</td> <td>   -2.844</td> <td>   -0.080</td>\n",
       "</tr>\n",
       "<tr>\n",
       "  <th>total_mousewheel_distance</th>   <td>    1.3144</td> <td>    0.592</td> <td>    2.220</td> <td> 0.051</td> <td>   -0.005</td> <td>    2.633</td>\n",
       "</tr>\n",
       "<tr>\n",
       "  <th>average_mousewheel_distance</th> <td>   -1.3827</td> <td>    0.647</td> <td>   -2.138</td> <td> 0.058</td> <td>   -2.823</td> <td>    0.058</td>\n",
       "</tr>\n",
       "<tr>\n",
       "  <th>copy_count</th>                  <td>    0.3716</td> <td>    0.389</td> <td>    0.955</td> <td> 0.362</td> <td>   -0.496</td> <td>    1.239</td>\n",
       "</tr>\n",
       "<tr>\n",
       "  <th>average_copy_length</th>         <td>    1.7374</td> <td>    3.086</td> <td>    0.563</td> <td> 0.586</td> <td>   -5.138</td> <td>    8.613</td>\n",
       "</tr>\n",
       "<tr>\n",
       "  <th>paste_count</th>                 <td>   -0.0104</td> <td>    0.482</td> <td>   -0.021</td> <td> 0.983</td> <td>   -1.084</td> <td>    1.063</td>\n",
       "</tr>\n",
       "<tr>\n",
       "  <th>average_paste_length</th>        <td>   -0.7609</td> <td>    0.288</td> <td>   -2.640</td> <td> 0.025</td> <td>   -1.403</td> <td>   -0.119</td>\n",
       "</tr>\n",
       "<tr>\n",
       "  <th>delete_count</th>                <td>    0.5639</td> <td>    0.534</td> <td>    1.056</td> <td> 0.316</td> <td>   -0.626</td> <td>    1.754</td>\n",
       "</tr>\n",
       "<tr>\n",
       "  <th>keypress_count</th>              <td>   -0.6604</td> <td>    0.577</td> <td>   -1.145</td> <td> 0.279</td> <td>   -1.945</td> <td>    0.624</td>\n",
       "</tr>\n",
       "<tr>\n",
       "  <th>highlight_count</th>             <td>   -0.6645</td> <td>    0.575</td> <td>   -1.157</td> <td> 0.274</td> <td>   -1.945</td> <td>    0.616</td>\n",
       "</tr>\n",
       "<tr>\n",
       "  <th>average_highlight_length</th>    <td>   -2.2925</td> <td>    3.183</td> <td>   -0.720</td> <td> 0.488</td> <td>   -9.385</td> <td>    4.799</td>\n",
       "</tr>\n",
       "<tr>\n",
       "  <th>idle_count</th>                  <td>    1.8319</td> <td>   31.557</td> <td>    0.058</td> <td> 0.955</td> <td>  -68.483</td> <td>   72.146</td>\n",
       "</tr>\n",
       "<tr>\n",
       "  <th>average_idle_duration</th>       <td>   -0.0798</td> <td>    3.956</td> <td>   -0.020</td> <td> 0.984</td> <td>   -8.894</td> <td>    8.735</td>\n",
       "</tr>\n",
       "<tr>\n",
       "  <th>total_idle_duration</th>         <td>   -0.9493</td> <td>   32.607</td> <td>   -0.029</td> <td> 0.977</td> <td>  -73.601</td> <td>   71.703</td>\n",
       "</tr>\n",
       "</table>\n",
       "<table class=\"simpletable\">\n",
       "<tr>\n",
       "  <th>Omnibus:</th>       <td> 1.077</td> <th>  Durbin-Watson:     </th> <td>   2.011</td>\n",
       "</tr>\n",
       "<tr>\n",
       "  <th>Prob(Omnibus):</th> <td> 0.583</td> <th>  Jarque-Bera (JB):  </th> <td>   1.042</td>\n",
       "</tr>\n",
       "<tr>\n",
       "  <th>Skew:</th>          <td>-0.402</td> <th>  Prob(JB):          </th> <td>   0.594</td>\n",
       "</tr>\n",
       "<tr>\n",
       "  <th>Kurtosis:</th>      <td> 2.503</td> <th>  Cond. No.          </th> <td>    614.</td>\n",
       "</tr>\n",
       "</table><br/><br/>Notes:<br/>[1] Standard Errors assume that the covariance matrix of the errors is correctly specified."
      ],
      "text/latex": [
       "\\begin{center}\n",
       "\\begin{tabular}{lclc}\n",
       "\\toprule\n",
       "\\textbf{Dep. Variable:}                &      Score       & \\textbf{  R-squared:         } &     0.738   \\\\\n",
       "\\textbf{Model:}                        &       OLS        & \\textbf{  Adj. R-squared:    } &     0.291   \\\\\n",
       "\\textbf{Method:}                       &  Least Squares   & \\textbf{  F-statistic:       } &     1.653   \\\\\n",
       "\\textbf{Date:}                         & Sat, 19 Oct 2024 & \\textbf{  Prob (F-statistic):} &    0.211    \\\\\n",
       "\\textbf{Time:}                         &     17:12:42     & \\textbf{  Log-Likelihood:    } &   -21.005   \\\\\n",
       "\\textbf{No. Observations:}             &          28      & \\textbf{  AIC:               } &     78.01   \\\\\n",
       "\\textbf{Df Residuals:}                 &          10      & \\textbf{  BIC:               } &     102.0   \\\\\n",
       "\\textbf{Df Model:}                     &          17      & \\textbf{                     } &             \\\\\n",
       "\\textbf{Covariance Type:}              &    nonrobust     & \\textbf{                     } &             \\\\\n",
       "\\bottomrule\n",
       "\\end{tabular}\n",
       "\\begin{tabular}{lcccccc}\n",
       "                                       & \\textbf{coef} & \\textbf{std err} & \\textbf{t} & \\textbf{P$> |$t$|$} & \\textbf{[0.025} & \\textbf{0.975]}  \\\\\n",
       "\\midrule\n",
       "\\textbf{const}                         &    3.053e-16  &        0.162     &  1.88e-15  &         1.000        &       -0.361    &        0.361     \\\\\n",
       "\\textbf{totaltime}                     &      -0.7010  &        0.414     &    -1.695  &         0.121        &       -1.622    &        0.220     \\\\\n",
       "\\textbf{click\\_count}                  &      -0.5340  &        0.391     &    -1.365  &         0.202        &       -1.406    &        0.338     \\\\\n",
       "\\textbf{total\\_mouse\\_movement}        &       0.2968  &        0.697     &     0.426  &         0.679        &       -1.257    &        1.851     \\\\\n",
       "\\textbf{mousewheel\\_count}             &      -1.4621  &        0.620     &    -2.357  &         0.040        &       -2.844    &       -0.080     \\\\\n",
       "\\textbf{total\\_mousewheel\\_distance}   &       1.3144  &        0.592     &     2.220  &         0.051        &       -0.005    &        2.633     \\\\\n",
       "\\textbf{average\\_mousewheel\\_distance} &      -1.3827  &        0.647     &    -2.138  &         0.058        &       -2.823    &        0.058     \\\\\n",
       "\\textbf{copy\\_count}                   &       0.3716  &        0.389     &     0.955  &         0.362        &       -0.496    &        1.239     \\\\\n",
       "\\textbf{average\\_copy\\_length}         &       1.7374  &        3.086     &     0.563  &         0.586        &       -5.138    &        8.613     \\\\\n",
       "\\textbf{paste\\_count}                  &      -0.0104  &        0.482     &    -0.021  &         0.983        &       -1.084    &        1.063     \\\\\n",
       "\\textbf{average\\_paste\\_length}        &      -0.7609  &        0.288     &    -2.640  &         0.025        &       -1.403    &       -0.119     \\\\\n",
       "\\textbf{delete\\_count}                 &       0.5639  &        0.534     &     1.056  &         0.316        &       -0.626    &        1.754     \\\\\n",
       "\\textbf{keypress\\_count}               &      -0.6604  &        0.577     &    -1.145  &         0.279        &       -1.945    &        0.624     \\\\\n",
       "\\textbf{highlight\\_count}              &      -0.6645  &        0.575     &    -1.157  &         0.274        &       -1.945    &        0.616     \\\\\n",
       "\\textbf{average\\_highlight\\_length}    &      -2.2925  &        3.183     &    -0.720  &         0.488        &       -9.385    &        4.799     \\\\\n",
       "\\textbf{idle\\_count}                   &       1.8319  &       31.557     &     0.058  &         0.955        &      -68.483    &       72.146     \\\\\n",
       "\\textbf{average\\_idle\\_duration}       &      -0.0798  &        3.956     &    -0.020  &         0.984        &       -8.894    &        8.735     \\\\\n",
       "\\textbf{total\\_idle\\_duration}         &      -0.9493  &       32.607     &    -0.029  &         0.977        &      -73.601    &       71.703     \\\\\n",
       "\\bottomrule\n",
       "\\end{tabular}\n",
       "\\begin{tabular}{lclc}\n",
       "\\textbf{Omnibus:}       &  1.077 & \\textbf{  Durbin-Watson:     } &    2.011  \\\\\n",
       "\\textbf{Prob(Omnibus):} &  0.583 & \\textbf{  Jarque-Bera (JB):  } &    1.042  \\\\\n",
       "\\textbf{Skew:}          & -0.402 & \\textbf{  Prob(JB):          } &    0.594  \\\\\n",
       "\\textbf{Kurtosis:}      &  2.503 & \\textbf{  Cond. No.          } &     614.  \\\\\n",
       "\\bottomrule\n",
       "\\end{tabular}\n",
       "%\\caption{OLS Regression Results}\n",
       "\\end{center}\n",
       "\n",
       "Notes: \\newline\n",
       " [1] Standard Errors assume that the covariance matrix of the errors is correctly specified."
      ],
      "text/plain": [
       "<class 'statsmodels.iolib.summary.Summary'>\n",
       "\"\"\"\n",
       "                            OLS Regression Results                            \n",
       "==============================================================================\n",
       "Dep. Variable:                  Score   R-squared:                       0.738\n",
       "Model:                            OLS   Adj. R-squared:                  0.291\n",
       "Method:                 Least Squares   F-statistic:                     1.653\n",
       "Date:                Sat, 19 Oct 2024   Prob (F-statistic):              0.211\n",
       "Time:                        17:12:42   Log-Likelihood:                -21.005\n",
       "No. Observations:                  28   AIC:                             78.01\n",
       "Df Residuals:                      10   BIC:                             102.0\n",
       "Df Model:                          17                                         \n",
       "Covariance Type:            nonrobust                                         \n",
       "===============================================================================================\n",
       "                                  coef    std err          t      P>|t|      [0.025      0.975]\n",
       "-----------------------------------------------------------------------------------------------\n",
       "const                        3.053e-16      0.162   1.88e-15      1.000      -0.361       0.361\n",
       "totaltime                      -0.7010      0.414     -1.695      0.121      -1.622       0.220\n",
       "click_count                    -0.5340      0.391     -1.365      0.202      -1.406       0.338\n",
       "total_mouse_movement            0.2968      0.697      0.426      0.679      -1.257       1.851\n",
       "mousewheel_count               -1.4621      0.620     -2.357      0.040      -2.844      -0.080\n",
       "total_mousewheel_distance       1.3144      0.592      2.220      0.051      -0.005       2.633\n",
       "average_mousewheel_distance    -1.3827      0.647     -2.138      0.058      -2.823       0.058\n",
       "copy_count                      0.3716      0.389      0.955      0.362      -0.496       1.239\n",
       "average_copy_length             1.7374      3.086      0.563      0.586      -5.138       8.613\n",
       "paste_count                    -0.0104      0.482     -0.021      0.983      -1.084       1.063\n",
       "average_paste_length           -0.7609      0.288     -2.640      0.025      -1.403      -0.119\n",
       "delete_count                    0.5639      0.534      1.056      0.316      -0.626       1.754\n",
       "keypress_count                 -0.6604      0.577     -1.145      0.279      -1.945       0.624\n",
       "highlight_count                -0.6645      0.575     -1.157      0.274      -1.945       0.616\n",
       "average_highlight_length       -2.2925      3.183     -0.720      0.488      -9.385       4.799\n",
       "idle_count                      1.8319     31.557      0.058      0.955     -68.483      72.146\n",
       "average_idle_duration          -0.0798      3.956     -0.020      0.984      -8.894       8.735\n",
       "total_idle_duration            -0.9493     32.607     -0.029      0.977     -73.601      71.703\n",
       "==============================================================================\n",
       "Omnibus:                        1.077   Durbin-Watson:                   2.011\n",
       "Prob(Omnibus):                  0.583   Jarque-Bera (JB):                1.042\n",
       "Skew:                          -0.402   Prob(JB):                        0.594\n",
       "Kurtosis:                       2.503   Cond. No.                         614.\n",
       "==============================================================================\n",
       "\n",
       "Notes:\n",
       "[1] Standard Errors assume that the covariance matrix of the errors is correctly specified.\n",
       "\"\"\""
      ]
     },
     "execution_count": 9,
     "metadata": {},
     "output_type": "execute_result"
    }
   ],
   "source": [
    "model.summary()"
   ]
  }
 ],
 "metadata": {
  "kernelspec": {
   "display_name": "data",
   "language": "python",
   "name": "python3"
  },
  "language_info": {
   "codemirror_mode": {
    "name": "ipython",
    "version": 3
   },
   "file_extension": ".py",
   "mimetype": "text/x-python",
   "name": "python",
   "nbconvert_exporter": "python",
   "pygments_lexer": "ipython3",
   "version": "3.10.13"
  }
 },
 "nbformat": 4,
 "nbformat_minor": 2
}
